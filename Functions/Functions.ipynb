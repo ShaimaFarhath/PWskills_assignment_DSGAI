{
 "cells": [
  {
   "cell_type": "raw",
   "id": "b80cce2c-4a72-411e-8f41-166dc4ee9698",
   "metadata": {},
   "source": [
    "THEORY QUESTIONS"
   ]
  },
  {
   "cell_type": "code",
   "execution_count": 1,
   "id": "d3341b71-004c-4eec-a757-d346ff771beb",
   "metadata": {},
   "outputs": [],
   "source": [
    "#1. Difference Between a Function and a Method in Python:\n",
    "\n",
    "#1.A function is a block of reusable code that is defined outside any class, while a method is a function that is associated with an object and defined within a class.\n",
    "\n",
    "#Example:\n",
    "#Function: def greet(): print(\"Hello\")\n",
    "#Method: class Dog: def bark(self): print(\"Woof!\")\n"
   ]
  },
  {
   "cell_type": "code",
   "execution_count": 6,
   "id": "325891cf-1351-48fd-8004-b6dea4f2e3ff",
   "metadata": {},
   "outputs": [
    {
     "data": {
      "text/plain": [
       "8"
      ]
     },
     "execution_count": 6,
     "metadata": {},
     "output_type": "execute_result"
    }
   ],
   "source": [
    "#2. Function Arguments and Parameters in Python:\n",
    "\n",
    "#Parameters are variables defined in the function definition, while *arguments* are the values passed to the function when it is called.\n",
    "#Example:\n",
    "def add(a, b):  # a and b are parameters\n",
    "    return a + b\n",
    "add(5, 3)  # 5 and 3 are arguments\n"
   ]
  },
  {
   "cell_type": "code",
   "execution_count": 5,
   "id": "f602e9f0-4291-4ed6-b4e4-b02dece07441",
   "metadata": {},
   "outputs": [
    {
     "name": "stdout",
     "output_type": "stream",
     "text": [
      "Hello\n"
     ]
    }
   ],
   "source": [
    "#3. Ways to Define and Call a Function in Python:\n",
    "\n",
    "#Define using def keyword, and call by writing the function name followed by parentheses.\n",
    "#Example:\n",
    "    \n",
    "def hello(): \n",
    "    print(\"Hello\")\n",
    "hello()  # Call function\n"
   ]
  },
  {
   "cell_type": "code",
   "execution_count": 12,
   "id": "438d44e2-ee97-4bc1-82a0-a89dec4595e7",
   "metadata": {},
   "outputs": [
    {
     "data": {
      "text/plain": [
       "8"
      ]
     },
     "execution_count": 12,
     "metadata": {},
     "output_type": "execute_result"
    }
   ],
   "source": [
    "#4. Purpose of the return Statement in a Python Function:\n",
    "\n",
    "#The return statement is used to exit a function and return a value to the caller.\n",
    "\n",
    "#Example:\n",
    "def add(a, b):\n",
    "    return a + b\n",
    "add(3, 5)  \n",
    "     \n",
    "\n"
   ]
  },
  {
   "cell_type": "code",
   "execution_count": 13,
   "id": "897c6e0a-5955-4186-9f1f-438a048b4db5",
   "metadata": {},
   "outputs": [],
   "source": [
    "#5. Iterators vs. Iterables in Python:\n",
    "#An iterable is an object capable of returning its members one by one (like lists, tuples). An *iterator* is an object that represents a stream of data and returns one element at a time from that iterable.\n",
    "\n",
    "#Example:\n",
    "my_list = [1, 2, 3]\n",
    "it = iter(my_list)  # `it` is an iterator\n"
   ]
  },
  {
   "cell_type": "code",
   "execution_count": 21,
   "id": "43d99ea3-2e64-4a91-b0df-0ea03a8e942d",
   "metadata": {},
   "outputs": [],
   "source": [
    "#6. Concept of Generators in Python:\n",
    "#Generators are a type of iterable, like lists or tuples, that generate values on the fly using the yield keyword instead of storing them in memory.\n",
    "\n",
    "#Example:\n",
    "def count_up_to(max):\n",
    "    count = 1\n",
    "    while count <= max:\n",
    "        yield count\n",
    "        count += 1\n",
    "    return\n",
    "\n"
   ]
  },
  {
   "cell_type": "code",
   "execution_count": 22,
   "id": "031454e8-91c0-45a7-b510-bcce2c5f8b8d",
   "metadata": {},
   "outputs": [],
   "source": [
    "#7. Advantages of Using Generators:\n",
    "\n",
    "#Generators provide a way to generate data without requiring all the data to be loaded into memory, making them memory efficient.\n",
    "#They can be used for representing an infinite stream of data\n"
   ]
  },
  {
   "cell_type": "code",
   "execution_count": 24,
   "id": "382024d6-2085-47b9-9a1e-c7b40b9dfa73",
   "metadata": {},
   "outputs": [
    {
     "name": "stdout",
     "output_type": "stream",
     "text": [
      "25\n"
     ]
    }
   ],
   "source": [
    "#8. Lambda Function in Python:\n",
    "\n",
    "#A lambda function is a small, anonymous function defined with the lambda keyword, typically used for short, simple operations.\n",
    "\n",
    "#Example:\n",
    "square = lambda x: x * x\n",
    "print(square(5))\n"
   ]
  },
  {
   "cell_type": "code",
   "execution_count": 26,
   "id": "eb6fcd7c-d0e9-4e93-964a-4394f5fcf5e7",
   "metadata": {},
   "outputs": [
    {
     "name": "stdout",
     "output_type": "stream",
     "text": [
      "[2, 4, 6, 8]\n"
     ]
    }
   ],
   "source": [
    "#9. Purpose and Usage of the map() Function:\n",
    "\n",
    "#The map() function applies a given function to all the items in an input list (or any iterable).\n",
    "\n",
    "#Example:\n",
    "numbers = [1, 2, 3, 4]\n",
    "doubled = map(lambda x: x * 2, numbers)\n",
    "doubled_list = list(doubled)\n",
    "print(doubled_list) "
   ]
  },
  {
   "cell_type": "code",
   "execution_count": 28,
   "id": "5cb0c5d4-af3e-4129-8ce9-3ff16083b8fb",
   "metadata": {},
   "outputs": [
    {
     "name": "stdout",
     "output_type": "stream",
     "text": [
      "Doubled: [2, 4, 6, 8, 10]\n",
      "Summed: 15\n",
      "Even numbers: [2, 4]\n"
     ]
    }
   ],
   "source": [
    "#10. Difference Between map(), reduce(), and filter():\n",
    "\n",
    "#map() applies a function to every item in an iterable.\n",
    "#reduce() applies a function cumulatively to the items in an iterable, reducing it to a single value.\n",
    "#filter() filters out elements based on a function that returns True or False.\n",
    "\n",
    "#Example:\n",
    "from functools import reduce\n",
    "\n",
    "numbers = [1, 2, 3, 4, 5]\n",
    "\n",
    "# Doubling the numbers\n",
    "doubled = list(map(lambda x: x * 2, numbers))\n",
    "print(\"Doubled:\", doubled)  # Output: [2, 4, 6, 8, 10]\n",
    "\n",
    "# Summing the numbers\n",
    "summed = reduce(lambda x, y: x + y, numbers)\n",
    "print(\"Summed:\", summed)  # Output: 15\n",
    "\n",
    "# Filtering even numbers\n",
    "even_numbers = list(filter(lambda x: x % 2 == 0, numbers))\n",
    "print(\"Even numbers:\", even_numbers)  # Output: [2, 4]\n",
    "\n"
   ]
  },
  {
   "cell_type": "code",
   "execution_count": 29,
   "id": "603d8db3-ad00-4523-90e4-c7b843aa9542",
   "metadata": {},
   "outputs": [],
   "source": [
    "#11. Internal Mechanism for Sum Using reduce():\n",
    "\n",
    "#You would manually write out how reduce() applies the function cumulatively to reduce the list [47, 11, 42, 13] into a single sum.\n"
   ]
  },
  {
   "cell_type": "raw",
   "id": "b3bf6aea-9a6e-4eb5-9f44-5f70f0c3285f",
   "metadata": {},
   "source": [
    "PRACTICAL QUESTIONS"
   ]
  },
  {
   "cell_type": "code",
   "execution_count": 35,
   "id": "ef8ec0dc-4f2d-4d6d-a2bd-c6dc3a8143c9",
   "metadata": {},
   "outputs": [
    {
     "name": "stdout",
     "output_type": "stream",
     "text": [
      "6\n"
     ]
    }
   ],
   "source": [
    "#1. Python Function for Sum of All Even Numbers:\n",
    "   \n",
    "def sum_even_numbers(lst):\n",
    "    return sum(x for x in lst if x % 2 == 0)\n",
    "\n",
    "# Example usage\n",
    "lst = [1, 2, 3, 4, 5]\n",
    "result = sum_even_numbers(lst)\n",
    "print(result)  # Output: 6\n"
   ]
  },
  {
   "cell_type": "code",
   "execution_count": 36,
   "id": "dce03f3e-80c3-44cf-99a2-08f1c222f18c",
   "metadata": {},
   "outputs": [
    {
     "name": "stdout",
     "output_type": "stream",
     "text": [
      "olleh\n"
     ]
    }
   ],
   "source": [
    "#2. Python Function to Reverse a String:\n",
    "  \n",
    "def reverse_string(s):\n",
    "    return s[::-1]\n",
    "\n",
    "# Example usage\n",
    "original_string = \"hello\"\n",
    "reversed_string = reverse_string(original_string)\n",
    "print(reversed_string)  # Output: \"olleh\"\n"
   ]
  },
  {
   "cell_type": "code",
   "execution_count": 37,
   "id": "941ba109-4eae-46a2-86e5-720e9304d825",
   "metadata": {},
   "outputs": [
    {
     "name": "stdout",
     "output_type": "stream",
     "text": [
      "[1, 4, 9, 16, 25]\n"
     ]
    }
   ],
   "source": [
    "#3. Python Function to Square Each Number in a List:\n",
    "\n",
    "def square_numbers(lst):\n",
    "    return [x ** 2 for x in lst]\n",
    "\n",
    "# Example usage\n",
    "numbers = [1, 2, 3, 4, 5]\n",
    "squared = square_numbers(numbers)\n",
    "print(squared)  # Output: [1, 4, 9, 16, 25]\n"
   ]
  },
  {
   "cell_type": "code",
   "execution_count": 38,
   "id": "044f1cca-b855-4d39-8223-bd7887866f31",
   "metadata": {},
   "outputs": [
    {
     "name": "stdout",
     "output_type": "stream",
     "text": [
      "[2, 3, 5, 7, 11, 13, 17, 19, 23, 29, 31, 37, 41, 43, 47, 53, 59, 61, 67, 71, 73, 79, 83, 89, 97, 101, 103, 107, 109, 113, 127, 131, 137, 139, 149, 151, 157, 163, 167, 173, 179, 181, 191, 193, 197, 199]\n"
     ]
    }
   ],
   "source": [
    "#4. Python Function to Check Prime Numbers from 1 to 200:\n",
    "\n",
    "def is_prime(n):\n",
    "    if n < 2:\n",
    "        return False\n",
    "    for i in range(2, int(n ** 0.5) + 1):\n",
    "        if n % i == 0:\n",
    "            return False\n",
    "    return True\n",
    "\n",
    "primes = [n for n in range(1, 201) if is_prime(n)]\n",
    "print(primes)  # This will print the list of prime numbers from 1 to 200\n",
    "\n"
   ]
  },
  {
   "cell_type": "code",
   "execution_count": 39,
   "id": "1d5498ac-6e28-4a72-af41-2bd320ad3971",
   "metadata": {},
   "outputs": [],
   "source": [
    "#5. Iterator Class for Fibonacci Sequence:\n",
    "\n",
    "class Fibonacci:\n",
    "    def __init__(self, max_terms):\n",
    "        self.max_terms = max_terms\n",
    "        self.n1, self.n2 = 0, 1\n",
    "        self.count = 0\n",
    "\n",
    "    def __iter__(self):\n",
    "        return self\n",
    "\n",
    "    def __next__(self):\n",
    "        if self.count >= self.max_terms:\n",
    "            raise StopIteration\n",
    "        if self.count == 0:\n",
    "            self.count += 1\n",
    "            return self.n1\n",
    "        elif self.count == 1:\n",
    "            self.count += 1\n",
    "            return self.n2\n",
    "        else:\n",
    "            self.count += 1\n",
    "            self.n1, self.n2 = self.n2, self.n1 + self.n2\n",
    "            return self.n2\n"
   ]
  },
  {
   "cell_type": "code",
   "execution_count": 40,
   "id": "ef348bb9-a6d8-48c5-96be-edeb3f3fabe2",
   "metadata": {},
   "outputs": [],
   "source": [
    "#6. Generator Function for Powers of 2:\n",
    "\n",
    "def powers_of_2(max_exp):\n",
    "    for n in range(max_exp + 1):\n",
    "        yield 2 ** n\n",
    "    \n"
   ]
  },
  {
   "cell_type": "code",
   "execution_count": 41,
   "id": "cbc82afa-142b-48d2-9f37-ad858f24391a",
   "metadata": {},
   "outputs": [],
   "source": [
    "#7. Generator Function to Read a File Line by Line:\n",
    "\n",
    "def read_lines(filename):\n",
    "    with open(filename, 'r') as f:\n",
    "        for line in f:\n",
    "            yield line.strip()\n"
   ]
  },
  {
   "cell_type": "code",
   "execution_count": 42,
   "id": "3002d4e8-4197-4e03-aef8-7d600a22760c",
   "metadata": {},
   "outputs": [
    {
     "name": "stdout",
     "output_type": "stream",
     "text": [
      "[(2, 1), (4, 2), (1, 3)]\n"
     ]
    }
   ],
   "source": [
    "#8. Lambda Function to Sort List of Tuples:\n",
    "\n",
    "tuples_list = [(1, 3), (2, 1), (4, 2)]\n",
    "sorted_list = sorted(tuples_list, key=lambda x: x[1])\n",
    "print(sorted_list)  # Output: [(2, 1), (4, 2), (1, 3)]\n"
   ]
  },
  {
   "cell_type": "code",
   "execution_count": 43,
   "id": "fedbf42e-bf30-4aac-ae9f-a97251d33af0",
   "metadata": {},
   "outputs": [
    {
     "name": "stdout",
     "output_type": "stream",
     "text": [
      "[32.0, 50.0, 68.0, 86.0]\n"
     ]
    }
   ],
   "source": [
    "# 9. Python Program Using map() to Convert Temperatures:\n",
    "\n",
    "celsius = [0, 10, 20, 30]\n",
    "fahrenheit = list(map(lambda c: (c * 9/5) + 32, celsius))\n",
    "print(fahrenheit)  # Output: [32.0, 50.0, 68.0, 86.0]\n"
   ]
  },
  {
   "cell_type": "code",
   "execution_count": 44,
   "id": "5388df06-81f8-4850-91bd-3ec0e61e2293",
   "metadata": {},
   "outputs": [
    {
     "name": "stdout",
     "output_type": "stream",
     "text": [
      "hll wrld\n"
     ]
    }
   ],
   "source": [
    "# 10.  Python Program Using filter() to Remove Vowels:\n",
    "\n",
    "def remove_vowels(s):\n",
    "    return ''.join(filter(lambda x: x.lower() not in 'aeiou', s))\n",
    "\n",
    "# Example usage\n",
    "result = remove_vowels(\"hello world\")\n",
    "print(result)  # Output: \"hll wrld\"\n"
   ]
  },
  {
   "cell_type": "code",
   "execution_count": 45,
   "id": "65aa9c29-fc52-4c5d-85be-fde912826b96",
   "metadata": {},
   "outputs": [
    {
     "name": "stdout",
     "output_type": "stream",
     "text": [
      "[(34587, 163.8), (98762, 170.39999999999998), (77226, 75.9), (88112, 84.97)]\n"
     ]
    }
   ],
   "source": [
    "# 11. Accounting Routine for a Book Shop Using lambda and map():\n",
    "\n",
    "orders = [[34587, 4, 40.95], [98762, 3, 56.80], [77226, 2, 32.95], [88112, 3, 24.99]]\n",
    "order_totals = list(map(lambda x: (x[0], x[1] * x[2] + 10 if x[1] * x[2] < 100 else x[1] * x[2]), orders))\n",
    "print(order_totals)  # This will print the order totals with adjustment\n"
   ]
  },
  {
   "cell_type": "code",
   "execution_count": null,
   "id": "d470e33e-b1d7-4eda-a19e-1f3343a8185e",
   "metadata": {},
   "outputs": [],
   "source": []
  }
 ],
 "metadata": {
  "kernelspec": {
   "display_name": "Python 3 (ipykernel)",
   "language": "python",
   "name": "python3"
  },
  "language_info": {
   "codemirror_mode": {
    "name": "ipython",
    "version": 3
   },
   "file_extension": ".py",
   "mimetype": "text/x-python",
   "name": "python",
   "nbconvert_exporter": "python",
   "pygments_lexer": "ipython3",
   "version": "3.10.8"
  }
 },
 "nbformat": 4,
 "nbformat_minor": 5
}
