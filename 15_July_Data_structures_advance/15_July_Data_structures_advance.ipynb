{
 "cells": [
  {
   "cell_type": "markdown",
   "id": "fb6f58d1-6ca9-4499-9238-68458e2eaa2f",
   "metadata": {},
   "source": [
    "1. Write a code to reverse a string."
   ]
  },
  {
   "cell_type": "code",
   "execution_count": 30,
   "id": "20171d1d-8b49-464c-88c9-4506365ea1bc",
   "metadata": {},
   "outputs": [
    {
     "name": "stdout",
     "output_type": "stream",
     "text": [
      "olleh\n"
     ]
    }
   ],
   "source": [
    "def reverse_string(s):\n",
    "    return s[::-1]\n",
    "\n",
    "# Example usage\n",
    "print(reverse_string(\"hello\"))  # Output: \"olleh\"\n"
   ]
  },
  {
   "cell_type": "markdown",
   "id": "7710340e-4290-441a-b2dc-265b81a93b9c",
   "metadata": {},
   "source": [
    "2. Write a code to count the number of vowels in a string."
   ]
  },
  {
   "cell_type": "code",
   "execution_count": 31,
   "id": "0bfbf966-50e4-4e8c-8123-e497b3f2f72d",
   "metadata": {},
   "outputs": [
    {
     "name": "stdout",
     "output_type": "stream",
     "text": [
      "3\n"
     ]
    }
   ],
   "source": [
    "def count_vowels(s):\n",
    "    vowels = \"aeiouAEIOU\"\n",
    "    return sum(1 for char in s if char in vowels)\n",
    "\n",
    "# Example usage\n",
    "print(count_vowels(\"hello world\"))  # Output: 3\n"
   ]
  },
  {
   "cell_type": "markdown",
   "id": "bec5e5a7-2165-466b-9dbd-fa57c6755159",
   "metadata": {},
   "source": [
    "3. Write a code to check if a given string is a palindrome or not."
   ]
  },
  {
   "cell_type": "code",
   "execution_count": 32,
   "id": "d926959f-dd39-49e8-ac88-f95d2904545f",
   "metadata": {},
   "outputs": [
    {
     "name": "stdout",
     "output_type": "stream",
     "text": [
      "True\n",
      "False\n"
     ]
    }
   ],
   "source": [
    "def is_palindrome(s):\n",
    "    return s == s[::-1]\n",
    "\n",
    "# Example usage\n",
    "print(is_palindrome(\"madam\"))  # Output: True\n",
    "print(is_palindrome(\"hello\"))  # Output: False\n"
   ]
  },
  {
   "cell_type": "markdown",
   "id": "8396aea7-69f1-4d9a-b737-e035ff26e0d1",
   "metadata": {},
   "source": [
    "4. Write a code to check if two given strings are anagrams of each other."
   ]
  },
  {
   "cell_type": "code",
   "execution_count": 33,
   "id": "10cc24b0-c47f-4070-ad72-4d24db8137ea",
   "metadata": {},
   "outputs": [
    {
     "name": "stdout",
     "output_type": "stream",
     "text": [
      "True\n",
      "False\n"
     ]
    }
   ],
   "source": [
    "def are_anagrams(s1, s2):\n",
    "    return sorted(s1) == sorted(s2)\n",
    "\n",
    "# Example usage\n",
    "print(are_anagrams(\"listen\", \"silent\"))  # Output: True\n",
    "print(are_anagrams(\"hello\", \"world\"))    # Output: False\n"
   ]
  },
  {
   "cell_type": "markdown",
   "id": "b307d093-4b86-47d0-9dd2-75a1a50b0f3d",
   "metadata": {},
   "source": [
    "5. Write a code to find all occurrences of a given substring within another string."
   ]
  },
  {
   "cell_type": "code",
   "execution_count": 34,
   "id": "112e629e-b986-4554-8610-0537a1a84702",
   "metadata": {},
   "outputs": [
    {
     "name": "stdout",
     "output_type": "stream",
     "text": [
      "[0, 6, 12]\n"
     ]
    }
   ],
   "source": [
    "def find_occurrences(s, sub):\n",
    "    start = 0\n",
    "    positions = []\n",
    "    while True:\n",
    "        start = s.find(sub, start)\n",
    "        if start == -1:\n",
    "            break\n",
    "        positions.append(start)\n",
    "        start += 1  # Move to the next position\n",
    "    return positions\n",
    "\n",
    "# Example usage\n",
    "print(find_occurrences(\"hello hello hello\", \"hello\"))  # Output: [0, 6, 12]\n"
   ]
  },
  {
   "cell_type": "markdown",
   "id": "b5e496ab-e36b-4cfa-8e7b-2dfa08c09004",
   "metadata": {},
   "source": [
    "6. Write a code to perform basic string compression using the counts of repeated characters."
   ]
  },
  {
   "cell_type": "code",
   "execution_count": 35,
   "id": "9161e429-7a42-4208-a586-2d7059e33bb0",
   "metadata": {},
   "outputs": [
    {
     "name": "stdout",
     "output_type": "stream",
     "text": [
      "a3b2c4d1\n"
     ]
    }
   ],
   "source": [
    "def compress_string(s):\n",
    "    compressed = []\n",
    "    count = 1\n",
    "    for i in range(1, len(s)):\n",
    "        if s[i] == s[i - 1]:\n",
    "            count += 1\n",
    "        else:\n",
    "            compressed.append(s[i - 1] + str(count))\n",
    "            count = 1\n",
    "    compressed.append(s[-1] + str(count))  # Append the last group\n",
    "    return ''.join(compressed)\n",
    "\n",
    "# Example usage\n",
    "print(compress_string(\"aaabbccccd\"))  # Output: \"a3b2c4d1\"\n"
   ]
  },
  {
   "cell_type": "markdown",
   "id": "001ffabe-2fc4-4993-8df7-6ff1e21c89f1",
   "metadata": {},
   "source": [
    "7. Write a code to determine if a string has all unique characters."
   ]
  },
  {
   "cell_type": "code",
   "execution_count": 36,
   "id": "ad0f8b97-822d-4ac3-a5c4-f286ffb6ca26",
   "metadata": {},
   "outputs": [
    {
     "name": "stdout",
     "output_type": "stream",
     "text": [
      "True\n",
      "False\n"
     ]
    }
   ],
   "source": [
    "def has_unique_chars(s):\n",
    "    return len(set(s)) == len(s)\n",
    "\n",
    "# Example usage\n",
    "print(has_unique_chars(\"abcdef\"))  # Output: True\n",
    "print(has_unique_chars(\"aabbcc\"))  # Output: False\n"
   ]
  },
  {
   "cell_type": "markdown",
   "id": "a2db5325-dab3-4187-a811-dd7812823e7f",
   "metadata": {},
   "source": [
    "8. Write a code to convert a given string to uppercase or lowercase."
   ]
  },
  {
   "cell_type": "code",
   "execution_count": 37,
   "id": "d8717386-9d0b-46b0-bd58-1fdc2dd15169",
   "metadata": {},
   "outputs": [
    {
     "name": "stdout",
     "output_type": "stream",
     "text": [
      "HELLO WORLD\n",
      "hello world\n"
     ]
    }
   ],
   "source": [
    "def convert_case(s, to_upper=True):\n",
    "    return s.upper() if to_upper else s.lower()\n",
    "\n",
    "# Example usage\n",
    "print(convert_case(\"Hello World\", to_upper=True))  # Output: \"HELLO WORLD\"\n",
    "print(convert_case(\"Hello World\", to_upper=False))  # Output: \"hello world\"\n"
   ]
  },
  {
   "cell_type": "markdown",
   "id": "462fdd4e-0ed9-43dc-889a-ad44dc3ccab5",
   "metadata": {},
   "source": [
    "9. Write a code to count the number of words in a string."
   ]
  },
  {
   "cell_type": "code",
   "execution_count": 38,
   "id": "929c0203-48d7-4047-9d1d-bada47486b84",
   "metadata": {},
   "outputs": [
    {
     "name": "stdout",
     "output_type": "stream",
     "text": [
      "5\n"
     ]
    }
   ],
   "source": [
    "def count_words(s):\n",
    "    return len(s.split())\n",
    "\n",
    "# Example usage\n",
    "print(count_words(\"Hello world, how are you?\"))  # Output: 5\n"
   ]
  },
  {
   "cell_type": "markdown",
   "id": "c44a5975-120e-41ec-8d3e-9505608e6a86",
   "metadata": {},
   "source": [
    "10. Write a code to concatenate two strings without using the + operator."
   ]
  },
  {
   "cell_type": "code",
   "execution_count": 39,
   "id": "5e62ed96-6bba-40e8-8509-bf0371a0d809",
   "metadata": {},
   "outputs": [
    {
     "name": "stdout",
     "output_type": "stream",
     "text": [
      "HelloWorld\n"
     ]
    }
   ],
   "source": [
    "def concatenate_strings(s1, s2):\n",
    "    return \"{}{}\".format(s1, s2)\n",
    "\n",
    "# Example usage\n",
    "print(concatenate_strings(\"Hello\", \"World\"))  # Output: \"HelloWorld\"\n"
   ]
  },
  {
   "cell_type": "markdown",
   "id": "677bdb41-0680-42a7-912a-1b9ec67e8e73",
   "metadata": {},
   "source": [
    "11. Write a code to remove all occurrences of a specific element from a list."
   ]
  },
  {
   "cell_type": "code",
   "execution_count": 40,
   "id": "7829a03d-2b4b-4884-bdab-de75ee87061b",
   "metadata": {},
   "outputs": [
    {
     "name": "stdout",
     "output_type": "stream",
     "text": [
      "[1, 3, 4]\n"
     ]
    }
   ],
   "source": [
    "def remove_occurrences(lst, element):\n",
    "    return [x for x in lst if x != element]\n",
    "\n",
    "# Example usage\n",
    "print(remove_occurrences([1, 2, 3, 2, 4], 2))  # Output: [1, 3, 4]\n"
   ]
  },
  {
   "cell_type": "markdown",
   "id": "9ba37a82-84c1-4f56-8109-3121bb269f9c",
   "metadata": {},
   "source": [
    "12. Implement a code to find the second largest number in a given list of integers."
   ]
  },
  {
   "cell_type": "code",
   "execution_count": 41,
   "id": "f4198593-2679-44e1-a219-88a9f92b9ad5",
   "metadata": {},
   "outputs": [
    {
     "name": "stdout",
     "output_type": "stream",
     "text": [
      "30\n"
     ]
    }
   ],
   "source": [
    "def second_largest(lst):\n",
    "    unique_lst = list(set(lst))  # Remove duplicates\n",
    "    unique_lst.sort()\n",
    "    return unique_lst[-2] if len(unique_lst) >= 2 else None\n",
    "\n",
    "# Example usage\n",
    "print(second_largest([10, 20, 20, 30, 40]))  # Output: 30\n"
   ]
  },
  {
   "cell_type": "markdown",
   "id": "f7c6ca12-0478-4586-8256-7e02f3e4c988",
   "metadata": {},
   "source": [
    "13. Create a code to count the occurrences of each element in a list and return a dictionary with elements as keys and their counts as values."
   ]
  },
  {
   "cell_type": "code",
   "execution_count": 42,
   "id": "2f48cfeb-47df-42e1-9fc2-7382bce17517",
   "metadata": {},
   "outputs": [
    {
     "name": "stdout",
     "output_type": "stream",
     "text": [
      "{1: 1, 2: 2, 3: 3}\n"
     ]
    }
   ],
   "source": [
    "def count_occurrences(lst):\n",
    "    count_dict = {}\n",
    "    for element in lst:\n",
    "        count_dict[element] = count_dict.get(element, 0) + 1\n",
    "    return count_dict\n",
    "\n",
    "# Example usage\n",
    "print(count_occurrences([1, 2, 2, 3, 3, 3]))  # Output: {1: 1, 2: 2, 3: 3}\n"
   ]
  },
  {
   "cell_type": "markdown",
   "id": "7b4b7377-78a6-41f7-abc0-e350b36e25a4",
   "metadata": {},
   "source": [
    "14. Write a code to reverse a list in-place without using any built-in reverse functions."
   ]
  },
  {
   "cell_type": "code",
   "execution_count": 43,
   "id": "82c79d31-0244-4c6e-809b-897fec14c213",
   "metadata": {},
   "outputs": [
    {
     "name": "stdout",
     "output_type": "stream",
     "text": [
      "[5, 4, 3, 2, 1]\n"
     ]
    }
   ],
   "source": [
    "def reverse_list(lst):\n",
    "    left, right = 0, len(lst) - 1\n",
    "    while left < right:\n",
    "        lst[left], lst[right] = lst[right], lst[left]\n",
    "        left += 1\n",
    "        right -= 1\n",
    "    return lst\n",
    "\n",
    "# Example usage\n",
    "print(reverse_list([1, 2, 3, 4, 5]))  # Output: [5, 4, 3, 2, 1]\n"
   ]
  },
  {
   "cell_type": "markdown",
   "id": "41a85ace-f359-40a8-b0e2-b55b80f850e6",
   "metadata": {},
   "source": [
    "15. Implement a code to find and remove duplicates "
   ]
  },
  {
   "cell_type": "code",
   "execution_count": 44,
   "id": "8d5abd0e-86ae-480a-8deb-ddc396775328",
   "metadata": {},
   "outputs": [
    {
     "name": "stdout",
     "output_type": "stream",
     "text": [
      "[1, 2, 3, 4]\n"
     ]
    }
   ],
   "source": [
    "def remove_duplicates(lst):\n",
    "    seen = set()\n",
    "    result = []\n",
    "    for element in lst:\n",
    "        if element not in seen:\n",
    "            seen.add(element)\n",
    "            result.append(element)\n",
    "    return result\n",
    "\n",
    "# Example usage\n",
    "print(remove_duplicates([1, 2, 2, 3, 3, 4]))  # Output: [1, 2, 3, 4]\n"
   ]
  },
  {
   "cell_type": "markdown",
   "id": "49b75a01-e58a-428c-862c-77a117be85b4",
   "metadata": {},
   "source": [
    "16. Create a code to check if a given list is sorted (either in ascending or descending order) or not."
   ]
  },
  {
   "cell_type": "code",
   "execution_count": 45,
   "id": "3836f0a5-1b78-47cf-a78d-de3c4044683f",
   "metadata": {},
   "outputs": [
    {
     "name": "stdout",
     "output_type": "stream",
     "text": [
      "True\n",
      "True\n",
      "False\n"
     ]
    }
   ],
   "source": [
    "def is_sorted(lst):\n",
    "    return lst == sorted(lst) or lst == sorted(lst, reverse=True)\n",
    "\n",
    "# Example usage\n",
    "print(is_sorted([1, 2, 3, 4]))  # Output: True (ascending)\n",
    "print(is_sorted([4, 3, 2, 1]))  # Output: True (descending)\n",
    "print(is_sorted([1, 3, 2, 4]))  # Output: False\n"
   ]
  },
  {
   "cell_type": "markdown",
   "id": "1ae34ecc-c088-47f5-b945-5377605837f9",
   "metadata": {},
   "source": [
    "17. Write a code to merge two sorted lists into a single sorted list."
   ]
  },
  {
   "cell_type": "code",
   "execution_count": 46,
   "id": "9f41ce83-e29e-481e-808c-72f01f0f0419",
   "metadata": {},
   "outputs": [
    {
     "name": "stdout",
     "output_type": "stream",
     "text": [
      "[1, 2, 3, 4, 5, 6]\n"
     ]
    }
   ],
   "source": [
    "def merge_sorted_lists(lst1, lst2):\n",
    "    return sorted(lst1 + lst2)\n",
    "\n",
    "# Example usage\n",
    "print(merge_sorted_lists([1, 3, 5], [2, 4, 6]))  # Output: [1, 2, 3, 4, 5, 6]\n"
   ]
  },
  {
   "cell_type": "markdown",
   "id": "5a1f5aa7-fba2-4eb6-b294-a216585d404e",
   "metadata": {},
   "source": [
    "18. Implement a code to find the intersection of two given lists."
   ]
  },
  {
   "cell_type": "code",
   "execution_count": 47,
   "id": "c09b8989-5706-47ef-aaf6-3f789b8c63ca",
   "metadata": {},
   "outputs": [
    {
     "name": "stdout",
     "output_type": "stream",
     "text": [
      "[3, 4]\n"
     ]
    }
   ],
   "source": [
    "def intersection(lst1, lst2):\n",
    "    return list(set(lst1) & set(lst2))\n",
    "\n",
    "# Example usage\n",
    "print(intersection([1, 2, 3, 4], [3, 4, 5, 6]))  # Output: [3, 4]\n"
   ]
  },
  {
   "cell_type": "markdown",
   "id": "d1a983d9-6162-4992-9da2-c71bba9fefff",
   "metadata": {},
   "source": [
    "19. Create a code to find the union of two lists without duplicates."
   ]
  },
  {
   "cell_type": "code",
   "execution_count": 48,
   "id": "3c9e4a67-a5f4-40e6-8b35-fb71c5731d5c",
   "metadata": {},
   "outputs": [
    {
     "name": "stdout",
     "output_type": "stream",
     "text": [
      "[1, 2, 3, 4, 5]\n"
     ]
    }
   ],
   "source": [
    "def union(lst1, lst2):\n",
    "    return list(set(lst1) | set(lst2))\n",
    "\n",
    "# Example usage\n",
    "print(union([1, 2, 3], [3, 4, 5]))  # Output: [1, 2, 3, 4, 5]\n"
   ]
  },
  {
   "cell_type": "markdown",
   "id": "840140f6-e873-44c8-b1e9-618c2dd049bd",
   "metadata": {},
   "source": [
    "20. Write a code to shuffle a given list randomly without using any built-in shuffle functions."
   ]
  },
  {
   "cell_type": "code",
   "execution_count": 49,
   "id": "ee70201f-f807-4711-b921-a76be887cf28",
   "metadata": {},
   "outputs": [
    {
     "name": "stdout",
     "output_type": "stream",
     "text": [
      "[5, 2, 3, 1, 4]\n"
     ]
    }
   ],
   "source": [
    "import random\n",
    "\n",
    "def shuffle_list(lst):\n",
    "    for i in range(len(lst) - 1, 0, -1):\n",
    "        j = random.randint(0, i)\n",
    "        lst[i], lst[j] = lst[j], lst[i]\n",
    "    return lst\n",
    "\n",
    "# Example usage\n",
    "print(shuffle_list([1, 2, 3, 4, 5]))  # Output: Randomly shuffled list\n"
   ]
  },
  {
   "cell_type": "markdown",
   "id": "8a3845a6-ddbc-4443-b656-080cc9a6a7eb",
   "metadata": {},
   "source": [
    "21. Write a code that takes two tuples as input and returns a new tuple containing elements that are common to both input tuples."
   ]
  },
  {
   "cell_type": "code",
   "execution_count": 50,
   "id": "d0e3bdda-b67b-435f-9bcd-f7da5d069a87",
   "metadata": {},
   "outputs": [
    {
     "name": "stdout",
     "output_type": "stream",
     "text": [
      "(3,)\n"
     ]
    }
   ],
   "source": [
    "def common_elements(tuple1, tuple2):\n",
    "    return tuple(set(tuple1) & set(tuple2))\n",
    "\n",
    "# Example usage\n",
    "print(common_elements((1, 2, 3), (3, 4, 5)))  # Output: (3,)\n"
   ]
  },
  {
   "cell_type": "markdown",
   "id": "4a56c9e7-35d0-4ca5-9cdc-6f8c2fd0d7d7",
   "metadata": {},
   "source": [
    "22. Create a code that prompts the user to enter two sets of integers separated by commas. Then, print the intersection of these two sets."
   ]
  },
  {
   "cell_type": "code",
   "execution_count": 51,
   "id": "deb0634f-1938-4642-b891-14b58a553069",
   "metadata": {},
   "outputs": [],
   "source": [
    "def intersection_of_sets():\n",
    "    set1 = set(map(int, input(\"Enter first set of integers separated by commas: \").split(',')))\n",
    "    set2 = set(map(int, input(\"Enter second set of integers separated by commas: \").split(',')))\n",
    "    print(\"Intersection:\", set1 & set2)\n",
    "\n",
    "# Example usage\n",
    "# intersection_of_sets()  # User input required\n"
   ]
  },
  {
   "cell_type": "markdown",
   "id": "964cc799-7908-42e9-bb0d-d56e9df85040",
   "metadata": {},
   "source": [
    "23. Write a code to concatenate two tuples. The function should take two tuples as input and return a new tuple containing elements from both input tuples."
   ]
  },
  {
   "cell_type": "code",
   "execution_count": 52,
   "id": "cbe86897-7840-42a4-b093-702a859c27f2",
   "metadata": {},
   "outputs": [
    {
     "name": "stdout",
     "output_type": "stream",
     "text": [
      "(1, 2, 3, 4, 5, 6)\n"
     ]
    }
   ],
   "source": [
    "def concatenate_tuples(tuple1, tuple2):\n",
    "    return tuple1 + tuple2\n",
    "\n",
    "# Example usage\n",
    "print(concatenate_tuples((1, 2, 3), (4, 5, 6)))  # Output: (1, 2, 3, 4, 5, 6)\n"
   ]
  },
  {
   "cell_type": "markdown",
   "id": "988d3b52-1754-4904-8852-5d29b1ed0143",
   "metadata": {},
   "source": [
    "24. Elements present in the first set but not in the second set:"
   ]
  },
  {
   "cell_type": "code",
   "execution_count": null,
   "id": "9c272274-3651-4cd2-be42-242c481732be",
   "metadata": {},
   "outputs": [],
   "source": [
    "set1 = set(input(\"Enter elements of the first set (comma-separated): \").split(\",\"))\n",
    "set2 = set(input(\"Enter elements of the second set (comma-separated): \").split(\",\"))\n",
    "difference = set1 - set2\n",
    "print(f\"Elements in first set but not in second set: {difference}\")\n"
   ]
  },
  {
   "cell_type": "markdown",
   "id": "e6ee4cdd-faa0-4def-920b-7cfd4c71ba8a",
   "metadata": {},
   "source": [
    "25. Create a code that takes a tuple and two integers as input, returning a new tuple containing elements within the specified range:"
   ]
  },
  {
   "cell_type": "code",
   "execution_count": null,
   "id": "a1bc21d1-c3b4-425e-a423-2f086b3b4e59",
   "metadata": {},
   "outputs": [],
   "source": [
    "def slice_tuple(tpl, start, end):\n",
    "    return tpl[start:end]\n",
    "\n",
    "tpl = tuple(map(int, input(\"Enter tuple elements (comma-separated): \").split(\",\")))\n",
    "start = int(input(\"Enter start index: \"))\n",
    "end = int(input(\"Enter end index: \"))\n",
    "result = slice_tuple(tpl, start, end)\n",
    "print(f\"Sliced tuple: {result}\")\n"
   ]
  },
  {
   "cell_type": "markdown",
   "id": "2097544a-791b-4acf-8bed-3b6e5e36d344",
   "metadata": {},
   "source": [
    "26. Union of two sets of characters:"
   ]
  },
  {
   "cell_type": "code",
   "execution_count": null,
   "id": "2259ce7f-8a46-4df5-b515-b0ed447632fe",
   "metadata": {},
   "outputs": [],
   "source": [
    "set1 = set(input(\"Enter first set of characters: \"))\n",
    "set2 = set(input(\"Enter second set of characters: \"))\n",
    "union = set1 | set2\n",
    "print(f\"Union of two sets: {union}\")\n"
   ]
  },
  {
   "cell_type": "markdown",
   "id": "20698290-043d-4aff-9eeb-3928b0124136",
   "metadata": {},
   "source": [
    "27. Max and min values from a tuple of integers:"
   ]
  },
  {
   "cell_type": "code",
   "execution_count": null,
   "id": "d947bdd4-c0fe-4b0a-bfed-ef530096ce1c",
   "metadata": {},
   "outputs": [],
   "source": [
    "def max_min_tuple(tpl):\n",
    "    max_val, min_val = max(tpl), min(tpl)\n",
    "    return max_val, min_val\n",
    "\n",
    "tpl = tuple(map(int, input(\"Enter tuple elements (comma-separated): \").split(\",\")))\n",
    "max_val, min_val = max_min_tuple(tpl)\n",
    "print(f\"Max value: {max_val}, Min value: {min_val}\")\n"
   ]
  },
  {
   "cell_type": "markdown",
   "id": "b94a53a5-bf7b-485f-aa71-680ad239e8c9",
   "metadata": {},
   "source": [
    "28. Union, intersection, and difference of two sets of integers:"
   ]
  },
  {
   "cell_type": "code",
   "execution_count": null,
   "id": "8e7c9b6a-2280-4681-984e-7e781d259f97",
   "metadata": {},
   "outputs": [],
   "source": [
    "set1 = set(map(int, input(\"Enter first set of integers (comma-separated): \").split(\",\")))\n",
    "set2 = set(map(int, input(\"Enter second set of integers (comma-separated): \").split(\",\")))\n",
    "union = set1 | set2\n",
    "intersection = set1 & set2\n",
    "difference = set1 - set2\n",
    "print(f\"Union: {union}, Intersection: {intersection}, Difference: {difference}\")\n"
   ]
  },
  {
   "cell_type": "markdown",
   "id": "64a07d99-366a-4977-bf7b-da2a2b4848f0",
   "metadata": {},
   "source": [
    "29. Count occurrences of an element in a tuple:"
   ]
  },
  {
   "cell_type": "code",
   "execution_count": null,
   "id": "3b84b55e-52d6-4c8a-99c2-65d3666a4cdc",
   "metadata": {},
   "outputs": [],
   "source": [
    "def count_occurrences(tpl, element):\n",
    "    return tpl.count(element)\n",
    "\n",
    "tpl = tuple(map(int, input(\"Enter tuple elements (comma-separated): \").split(\",\")))\n",
    "element = int(input(\"Enter the element to count: \"))\n",
    "count = count_occurrences(tpl, element)\n",
    "print(f\"Count of {element}: {count}\")\n"
   ]
  },
  {
   "cell_type": "markdown",
   "id": "b93df958-9db3-4fb5-bb04-3c5d2bebf82b",
   "metadata": {},
   "source": [
    "30. Symmetric difference of two sets of strings:"
   ]
  },
  {
   "cell_type": "code",
   "execution_count": null,
   "id": "7bbce21d-9479-4ead-aff4-a19d1fcd4920",
   "metadata": {},
   "outputs": [],
   "source": [
    "set1 = set(input(\"Enter first set of strings (comma-separated): \").split(\",\"))\n",
    "set2 = set(input(\"Enter second set of strings (comma-separated): \").split(\",\"))\n",
    "symmetric_difference = set1 ^ set2\n",
    "print(f\"Symmetric difference: {symmetric_difference}\")\n"
   ]
  },
  {
   "cell_type": "markdown",
   "id": "d46955a2-81fb-4296-a941-dfd5dedf820c",
   "metadata": {},
   "source": [
    "31. Word frequencies in a list:"
   ]
  },
  {
   "cell_type": "code",
   "execution_count": null,
   "id": "2471ab84-ca88-4f70-9fe8-0abbc26979a9",
   "metadata": {},
   "outputs": [],
   "source": [
    "def word_frequencies(words):\n",
    "    frequency = {}\n",
    "    for word in words:\n",
    "        frequency[word] = frequency.get(word, 0) + 1\n",
    "    return frequency\n",
    "\n",
    "words = input(\"Enter a list of words (space-separated): \").split()\n",
    "frequencies = word_frequencies(words)\n",
    "print(f\"Word frequencies: {frequencies}\")\n"
   ]
  },
  {
   "cell_type": "markdown",
   "id": "f47d1222-152b-4024-a8c0-abc1608f9bfd",
   "metadata": {},
   "source": [
    "32. Merge two dictionaries, adding values of common keys:"
   ]
  },
  {
   "cell_type": "code",
   "execution_count": null,
   "id": "14851b42-3614-4dbb-80b1-089a1ff9a716",
   "metadata": {},
   "outputs": [],
   "source": [
    "def merge_dictionaries(dict1, dict2):\n",
    "    merged = dict1.copy()\n",
    "    for key, value in dict2.items():\n",
    "        if key in merged:\n",
    "            merged[key] += value\n",
    "        else:\n",
    "            merged[key] = value\n",
    "    return merged\n",
    "\n",
    "dict1 = {'a': 1, 'b': 2}\n",
    "dict2 = {'b': 3, 'c': 4}\n",
    "result = merge_dictionaries(dict1, dict2)\n",
    "print(f\"Merged dictionary: {result}\")\n"
   ]
  },
  {
   "cell_type": "markdown",
   "id": "fa35aabd-dba3-47af-9af5-0e6518f7085c",
   "metadata": {},
   "source": [
    "33. Access a value in a nested dictionary:"
   ]
  },
  {
   "cell_type": "code",
   "execution_count": null,
   "id": "089108fb-eb9a-4d4e-9a3c-455c725f0416",
   "metadata": {},
   "outputs": [],
   "source": [
    "def get_value_nested_dict(d, keys):\n",
    "    current_dict = d\n",
    "    for key in keys:\n",
    "        current_dict = current_dict.get(key)\n",
    "        if current_dict is None:\n",
    "            return None\n",
    "    return current_dict\n",
    "\n",
    "nested_dict = {'a': {'b': {'c': 10}}}\n",
    "keys = input(\"Enter keys (comma-separated): \").split(\",\")\n",
    "value = get_value_nested_dict(nested_dict, keys)\n",
    "print(f\"Value: {value}\")\n"
   ]
  },
  {
   "cell_type": "markdown",
   "id": "06a221fe-aa38-48f8-8e43-3f2438edd174",
   "metadata": {},
   "source": [
    "34. Sort a dictionary based on values:"
   ]
  },
  {
   "cell_type": "code",
   "execution_count": null,
   "id": "15f135d7-cda9-4f3e-a2da-552aef4e3e7d",
   "metadata": {},
   "outputs": [],
   "source": [
    "def sort_dict_by_values(d, ascending=True):\n",
    "    return dict(sorted(d.items(), key=lambda item: item[1], reverse=not ascending))\n",
    "\n",
    "d = {'a': 2, 'b': 1, 'c': 3}\n",
    "ascending = input(\"Sort in ascending order? (yes/no): \").lower() == 'yes'\n",
    "sorted_dict = sort_dict_by_values(d, ascending)\n",
    "print(f\"Sorted dictionary: {sorted_dict}\")\n"
   ]
  },
  {
   "cell_type": "markdown",
   "id": "342028e1-34c9-4616-a5a5-898ebe3d8946",
   "metadata": {},
   "source": [
    "35. Invert a dictionary, swapping keys and values:"
   ]
  },
  {
   "cell_type": "code",
   "execution_count": null,
   "id": "f71e76a7-9d4c-4df9-a909-776a89292dd8",
   "metadata": {},
   "outputs": [],
   "source": [
    "def invert_dict(d):\n",
    "    inverted = {}\n",
    "    for key, value in d.items():\n",
    "        if value not in inverted:\n",
    "            inverted[value] = [key]\n",
    "        else:\n",
    "            inverted[value].append(key)\n",
    "    return inverted\n",
    "\n",
    "d = {'a': 1, 'b': 2, 'c': 1}\n",
    "inverted_dict = invert_dict(d)\n",
    "print(f\"Inverted dictionary: {inverted_dict}\")\n"
   ]
  }
 ],
 "metadata": {
  "kernelspec": {
   "display_name": "Python 3 (ipykernel)",
   "language": "python",
   "name": "python3"
  },
  "language_info": {
   "codemirror_mode": {
    "name": "ipython",
    "version": 3
   },
   "file_extension": ".py",
   "mimetype": "text/x-python",
   "name": "python",
   "nbconvert_exporter": "python",
   "pygments_lexer": "ipython3",
   "version": "3.10.8"
  }
 },
 "nbformat": 4,
 "nbformat_minor": 5
}
