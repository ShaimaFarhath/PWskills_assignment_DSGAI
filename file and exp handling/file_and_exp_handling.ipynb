{
 "cells": [
  {
   "cell_type": "code",
   "execution_count": 2,
   "id": "34b0b9d1-144a-4fd6-8f7b-1f74e5b7d958",
   "metadata": {},
   "outputs": [
    {
     "data": {
      "text/plain": [
       "' 1. Scenarios where multithreading is preferable to multiprocessing and scenarios where multiprocessing is a better choice:\\nMultithreading is preferred when:\\n The task involves I/O-bound operations, such as file reading/writing, network communication, or waiting for user input. Since these tasks spend a lot of time waiting, multiple threads can utilize the CPU while waiting for I/O operations to complete.\\nYou need to perform concurrent tasks that share a lot of data, since threads share the same memory space.\\n     - Examples: web scraping, handling multiple client requests in a server, or running concurrent downloads.\\n   \\nMultiprocessing is better suited when:\\n     - The task is CPU-bound, meaning it requires a lot of CPU processing power, such as mathematical calculations or data processing.\\n     - You need to run isolated tasks that don’t share memory because each process has its own memory space.\\n     - Examples: image processing, parallelizing data analysis tasks, or performing scientific simulations.'"
      ]
     },
     "execution_count": 2,
     "metadata": {},
     "output_type": "execute_result"
    }
   ],
   "source": [
    "''' 1. Scenarios where multithreading is preferable to multiprocessing and scenarios where multiprocessing is a better choice:\n",
    "Multithreading is preferred when:\n",
    " The task involves I/O-bound operations, such as file reading/writing, network communication, or waiting for user input. Since these tasks spend a lot of time waiting, multiple threads can utilize the CPU while waiting for I/O operations to complete.\n",
    "You need to perform concurrent tasks that share a lot of data, since threads share the same memory space.\n",
    "     - Examples: web scraping, handling multiple client requests in a server, or running concurrent downloads.\n",
    "   \n",
    "Multiprocessing is better suited when:\n",
    "     - The task is CPU-bound, meaning it requires a lot of CPU processing power, such as mathematical calculations or data processing.\n",
    "     - You need to run isolated tasks that don’t share memory because each process has its own memory space.\n",
    "     - Examples: image processing, parallelizing data analysis tasks, or performing scientific simulations.'''\n"
   ]
  },
  {
   "cell_type": "code",
   "execution_count": 3,
   "id": "dc91376c-3e88-41ab-96e5-a737f7e71279",
   "metadata": {},
   "outputs": [
    {
     "data": {
      "text/plain": [
       "'2. Process Pool and its efficiency in managing multiple processes:\\n   A process pool is a collection of worker processes that are kept ready to execute tasks. Instead of creating a new process for each task, a pool of worker processes is maintained, and tasks are distributed among them. This saves the overhead of process creation and destruction, thus increasing efficiency.\\n   Efficiency benefits:\\n    Reduced Overhead: Spawning processes can be slow and resource-intensive, so reusing processes in a pool speeds up task execution.\\n Task Management: The pool manages task assignment, ensuring that tasks are distributed evenly across processes.\\n Concurrency: It allows you to manage multiple processes concurrently, which is useful for CPU-bound tasks.'"
      ]
     },
     "execution_count": 3,
     "metadata": {},
     "output_type": "execute_result"
    }
   ],
   "source": [
    "'''2. Process Pool and its efficiency in managing multiple processes:\n",
    "   A process pool is a collection of worker processes that are kept ready to execute tasks. Instead of creating a new process for each task, a pool of worker processes is maintained, and tasks are distributed among them. This saves the overhead of process creation and destruction, thus increasing efficiency.\n",
    "   Efficiency benefits:\n",
    "    Reduced Overhead: Spawning processes can be slow and resource-intensive, so reusing processes in a pool speeds up task execution.\n",
    " Task Management: The pool manages task assignment, ensuring that tasks are distributed evenly across processes.\n",
    " Concurrency: It allows you to manage multiple processes concurrently, which is useful for CPU-bound tasks.'''"
   ]
  },
  {
   "cell_type": "code",
   "execution_count": 4,
   "id": "ee48ac9a-1c42-4bdb-8117-7abef3a8c408",
   "metadata": {},
   "outputs": [
    {
     "data": {
      "text/plain": [
       "'3. Multiprocessing in Python:\\n\\n  Multiprocessing allows you to run multiple processes concurrently, each with its own memory space. This is useful for CPU-bound tasks where each process can use a separate CPU core to execute tasks in parallel. It is used in Python to overcome the Global Interpreter Lock (GIL), which limits the ability of threads to execute Python bytecodes in parallel.\\n   \\n   Why it’s used:\\n     - Python’s GIL prevents multithreading from being effective for CPU-bound tasks. Multiprocessing bypasses the GIL by using separate memory spaces, making it more effective for parallel processing in CPU-heavy applications.'"
      ]
     },
     "execution_count": 4,
     "metadata": {},
     "output_type": "execute_result"
    }
   ],
   "source": [
    "'''3. Multiprocessing in Python:\n",
    "\n",
    "  Multiprocessing allows you to run multiple processes concurrently, each with its own memory space. This is useful for CPU-bound tasks where each process can use a separate CPU core to execute tasks in parallel. It is used in Python to overcome the Global Interpreter Lock (GIL), which limits the ability of threads to execute Python bytecodes in parallel.\n",
    "   \n",
    "   Why it’s used:\n",
    "     - Python’s GIL prevents multithreading from being effective for CPU-bound tasks. Multiprocessing bypasses the GIL by using separate memory spaces, making it more effective for parallel processing in CPU-heavy applications.'''"
   ]
  },
  {
   "cell_type": "code",
   "execution_count": 5,
   "id": "0b60cade-7d08-40a1-843f-44e272b1eae9",
   "metadata": {},
   "outputs": [
    {
     "name": "stdout",
     "output_type": "stream",
     "text": [
      "Added 0 to the list\n",
      "Added 1 to the list\n",
      "Added 2 to the list\n",
      "Added 3 to the list\n",
      "Added 4 to the list\n",
      "Removed 0 from the list\n",
      "Removed 1 from the list\n",
      "Removed 2 from the list\n",
      "Removed 3 from the list\n",
      "Removed 4 from the list\n",
      "Final list: []\n"
     ]
    }
   ],
   "source": [
    " #4. Python program using multithreading (with `threading.Lock` to avoid race conditions):\n",
    "import threading\n",
    "# Shared list\n",
    "numbers = []\n",
    "# Lock object to prevent race conditions\n",
    "lock = threading.Lock()\n",
    "def add_numbers():\n",
    "    for i in range(5):\n",
    "        with lock:\n",
    "            numbers.append(i)\n",
    "            print(f\"Added {i} to the list\")\n",
    "def remove_numbers():\n",
    "    for i in range(5):\n",
    "        with lock:\n",
    "            if numbers:\n",
    "                removed = numbers.pop(0)\n",
    "                print(f\"Removed {removed} from the list\")\n",
    "# Creating threads\n",
    "thread1 = threading.Thread(target=add_numbers)\n",
    "thread2 = threading.Thread(target=remove_numbers)\n",
    "\n",
    "# Starting threads\n",
    "thread1.start()\n",
    "thread2.start()\n",
    "# Joining threads to wait for them to complete\n",
    "thread1.join()\n",
    "thread2.join()\n",
    "print(f\"Final list: {numbers}\")\n"
   ]
  },
  {
   "cell_type": "code",
   "execution_count": 6,
   "id": "b7f5548d-d330-4b19-a205-8099965cd90f",
   "metadata": {},
   "outputs": [
    {
     "data": {
      "text/plain": [
       "'5. Methods and tools for safely sharing data between threads and processes in Python:\\n\\nFor Threads:\\nthreading.Lock: A simple mechanism to prevent race conditions by locking shared data during thread access.\\nthreading.RLock: A re-entrant lock that allows a thread to acquire the lock multiple times, useful for more complex scenarios.\\nQueue module: A thread-safe FIFO queue for sharing data between threads. It automatically manages locks.\\n\\nFor Processes:\\nmultiprocessing.Queue: A thread-safe, process-safe queue that can be shared between processes.\\nmultiprocessing.Manager: Provides methods like `list()`, `dict()`, etc., to share data structures between processes safely.\\nmultiprocessing.Value & Array: For sharing simple values (like integers) and arrays between processes.'"
      ]
     },
     "execution_count": 6,
     "metadata": {},
     "output_type": "execute_result"
    }
   ],
   "source": [
    "'''5. Methods and tools for safely sharing data between threads and processes in Python:\n",
    "\n",
    "For Threads:\n",
    "threading.Lock: A simple mechanism to prevent race conditions by locking shared data during thread access.\n",
    "threading.RLock: A re-entrant lock that allows a thread to acquire the lock multiple times, useful for more complex scenarios.\n",
    "Queue module: A thread-safe FIFO queue for sharing data between threads. It automatically manages locks.\n",
    "\n",
    "For Processes:\n",
    "multiprocessing.Queue: A thread-safe, process-safe queue that can be shared between processes.\n",
    "multiprocessing.Manager: Provides methods like `list()`, `dict()`, etc., to share data structures between processes safely.\n",
    "multiprocessing.Value & Array: For sharing simple values (like integers) and arrays between processes.'''\n"
   ]
  },
  {
   "cell_type": "code",
   "execution_count": 9,
   "id": "a8f26e1f-223d-4558-a9c8-bd102e66e8c9",
   "metadata": {},
   "outputs": [
    {
     "data": {
      "text/plain": [
       "'6. Importance of exception handling in concurrent programs and available techniques:\\n\\nHandling exceptions in concurrent programs is crucial because errors can occur independently in threads or processes, and if not handled properly, they can cause the entire program to crash.\\nTechniques for handling exceptions:\\nTry-except blocks: Use try-except blocks within threads or processes to catch exceptions and handle them without affecting the entire program.\\nconcurrent.futures module: Provides an easy way to handle exceptions in threads and processes using the `ThreadPoolExecutor` and `ProcessPoolExecutor`. Exceptions are propagated back to the main thread and can be captured with `result()`.'"
      ]
     },
     "execution_count": 9,
     "metadata": {},
     "output_type": "execute_result"
    }
   ],
   "source": [
    " '''6. Importance of exception handling in concurrent programs and available techniques:\n",
    "\n",
    "Handling exceptions in concurrent programs is crucial because errors can occur independently in threads or processes, and if not handled properly, they can cause the entire program to crash.\n",
    "Techniques for handling exceptions:\n",
    "Try-except blocks: Use try-except blocks within threads or processes to catch exceptions and handle them without affecting the entire program.\n",
    "concurrent.futures module: Provides an easy way to handle exceptions in threads and processes using the `ThreadPoolExecutor` and `ProcessPoolExecutor`. Exceptions are propagated back to the main thread and can be captured with `result()`.'''"
   ]
  },
  {
   "cell_type": "code",
   "execution_count": 10,
   "id": "3b42a04c-e864-4149-8c9c-bdfd4e7dcd61",
   "metadata": {},
   "outputs": [
    {
     "name": "stdout",
     "output_type": "stream",
     "text": [
      "Factorial: 1\n",
      "Factorial: 2\n",
      "Factorial: 6\n",
      "Factorial: 24\n",
      "Factorial: 120\n",
      "Factorial: 720\n",
      "Factorial: 5040\n",
      "Factorial: 40320\n",
      "Factorial: 362880\n",
      "Factorial: 3628800\n"
     ]
    }
   ],
   "source": [
    "#7. Program using Thread Pool to calculate factorial using `ThreadPoolExecutor`:\n",
    "from concurrent.futures import ThreadPoolExecutor\n",
    "import math\n",
    "def factorial(n):\n",
    "    return math.factorial(n)\n",
    "# Using ThreadPoolExecutor\n",
    "with ThreadPoolExecutor() as executor:\n",
    "    futures = [executor.submit(factorial, i) for i in range(1, 11)]\n",
    "    for future in futures:\n",
    "        print(f\"Factorial: {future.result()}\")"
   ]
  },
  {
   "cell_type": "code",
   "execution_count": 11,
   "id": "1e415f99-f74c-4a6b-b5b6-b7fe48e6b1b1",
   "metadata": {},
   "outputs": [
    {
     "name": "stdout",
     "output_type": "stream",
     "text": [
      "Pool size: 2, Results: [1, 4, 9, 16, 25, 36, 49, 64, 81, 100], Time taken: 0.0017 seconds\n",
      "Pool size: 4, Results: [1, 4, 9, 16, 25, 36, 49, 64, 81, 100], Time taken: 0.0017 seconds\n",
      "Pool size: 8, Results: [1, 4, 9, 16, 25, 36, 49, 64, 81, 100], Time taken: 0.0020 seconds\n"
     ]
    }
   ],
   "source": [
    "# 8. Python program using multiprocessing.Pool to compute squares of numbers:\n",
    "\n",
    "import multiprocessing\n",
    "import time\n",
    "# Function to compute square of a number\n",
    "def square(n):\n",
    "    return n * n\n",
    "# Function to compute squares in parallel using multiprocessing Pool\n",
    "def compute_squares(pool_size):\n",
    "    # Numbers to square\n",
    "    numbers = [1, 2, 3, 4, 5, 6, 7, 8, 9, 10]\n",
    "    \n",
    "    # Create a Pool with the given size\n",
    "    with multiprocessing.Pool(pool_size) as pool:\n",
    "        start_time = time.time()\n",
    "        # Compute squares of numbers in parallel\n",
    "        result = pool.map(square, numbers)\n",
    "        end_time = time.time()\n",
    "        \n",
    "        print(f\"Pool size: {pool_size}, Results: {result}, Time taken: {end_time - start_time:.4f} seconds\")\n",
    "\n",
    "if __name__ == \"__main__\":\n",
    "    # Testing with different pool sizes\n",
    "    for size in [2, 4, 8]:\n",
    "        compute_squares(size)\n",
    "\n",
    "   \n"
   ]
  },
  {
   "cell_type": "code",
   "execution_count": null,
   "id": "5755de70-3551-4a3c-ac28-89d7b17d1567",
   "metadata": {},
   "outputs": [],
   "source": []
  }
 ],
 "metadata": {
  "kernelspec": {
   "display_name": "Python 3 (ipykernel)",
   "language": "python",
   "name": "python3"
  },
  "language_info": {
   "codemirror_mode": {
    "name": "ipython",
    "version": 3
   },
   "file_extension": ".py",
   "mimetype": "text/x-python",
   "name": "python",
   "nbconvert_exporter": "python",
   "pygments_lexer": "ipython3",
   "version": "3.10.8"
  }
 },
 "nbformat": 4,
 "nbformat_minor": 5
}
