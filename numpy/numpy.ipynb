{
 "cells": [
  {
   "cell_type": "code",
   "execution_count": 1,
   "id": "dce8cdcb-03cf-41c3-82fa-c73bfa2bf1b5",
   "metadata": {},
   "outputs": [
    {
     "name": "stdout",
     "output_type": "stream",
     "text": [
      "Vertical stack:\n",
      " [[1 2 3]\n",
      " [4 5 6]]\n",
      "Horizontal stack:\n",
      " [1 2 3 4 5 6]\n"
     ]
    }
   ],
   "source": [
    "#1. Purpose and Advantages of NumPy:  \n",
    "#NumPy is a library for numerical computations in Python, providing support for large multi-dimensional arrays and matrices along with a collection of mathematical functions to operate on them. It enhances Python's capabilities for numerical operations by offering efficient array computations, element-wise operations, broadcasting, and more, which are optimized and implemented in C.\n",
    "\n",
    "#2. np.mean() vs. np.average():  \n",
    "#Both np.mean() and np.average() calculate the arithmetic mean of an array. The difference is that np.average() allows for specifying weights to calculate a weighted mean, while np.mean() does not. Use np.average() when you need to compute a weighted mean; otherwise, np.mean() suffices.\n",
    "\n",
    "#3. Reversing a NumPy Array:  \n",
    "#For 1D arrays, you can use slicing: array[::-1]. For 2D arrays, you can reverse rows with np.flipud(array) and columns with np.fliplr(array).\n",
    "\n",
    "#4. Determining Data Types in NumPy:  \n",
    "#Use array.dtype to find the data type of elements in a NumPy array. The data type is crucial for memory management and performance, as NumPy arrays are stored in contiguous memory and can use optimized operations based on the data type.\n",
    "\n",
    "#5. ndarrays in NumPy:  \n",
    "#ndarrays are the core data structure of NumPy, representing n-dimensional arrays. Key features include support for fast mathematical operations, broadcasting, and a variety of methods for manipulation. They differ from Python lists as they provide more efficient storage and faster computation.\n",
    "\n",
    "#6. Performance Benefits of NumPy Arrays:  \n",
    "#NumPy arrays are more efficient for large-scale numerical operations because they use contiguous memory and are implemented in C, reducing the overhead of dynamic typing in Python lists.\n",
    "\n",
    "#7. vstack() vs. hstack():  \n",
    "#vstack() stacks arrays vertically (row-wise), while hstack() stacks them horizontally (column-wise). Example:  \n",
    "import numpy as np\n",
    "a = np.array([1, 2, 3])\n",
    "b = np.array([4, 5, 6])\n",
    "vstack_result = np.vstack((a, b))\n",
    "print(\"Vertical stack:\\n\", vstack_result)\n",
    "hstack_result = np.hstack((a, b))\n",
    "print(\"Horizontal stack:\\n\", hstack_result)\n",
    "\n",
    "   \n",
    "\n",
    "#8. fliplr() vs. flipud() Methods:  \n",
    "#fliplr() flips an array horizontally (left to right), and flipud() flips an array vertically (up to down).\n",
    "\n",
    "#9. array_split() Method:  \n",
    "#array_split() splits an array into sub-arrays. It can handle uneven splits by distributing the extra elements among the sub-arrays.\n",
    "\n",
    "#10. Vectorization and Broadcasting in NumPy:  \n",
    "#Vectorization allows for applying operations to entire arrays without explicit loops, and broadcasting enables operations between arrays of different shapes by \"stretching\" the smaller array.\n",
    "\n"
   ]
  },
  {
   "cell_type": "code",
   "execution_count": 2,
   "id": "c57d2839-1c5b-4300-8cd5-96aed959a2fb",
   "metadata": {},
   "outputs": [
    {
     "name": "stdout",
     "output_type": "stream",
     "text": [
      "Original array:\n",
      " [[50 17 94]\n",
      " [52 55 11]\n",
      " [69 56 65]]\n",
      "Transposed array:\n",
      " [[50 52 69]\n",
      " [17 55 56]\n",
      " [94 11 65]]\n"
     ]
    }
   ],
   "source": [
    "#1. Create and Transpose a 3x3 Array:\n",
    "import numpy as np\n",
    "\n",
    "# Create a 3x3 array with random integers between 1 and 100\n",
    "arr = np.random.randint(1, 101, size=(3, 3))\n",
    "print(\"Original array:\\n\", arr)\n",
    "\n",
    "# Transpose the array\n",
    "transposed = arr.T\n",
    "print(\"Transposed array:\\n\", transposed)\n"
   ]
  },
  {
   "cell_type": "code",
   "execution_count": 3,
   "id": "f3ff1630-d230-4134-8a17-b6e5ae0066a7",
   "metadata": {},
   "outputs": [
    {
     "name": "stdout",
     "output_type": "stream",
     "text": [
      "Original array:\n",
      " [0 1 2 3 4 5 6 7 8 9]\n",
      "Reshaped to (2, 5):\n",
      " [[0 1 2 3 4]\n",
      " [5 6 7 8 9]]\n",
      "Reshaped to (5, 2):\n",
      " [[0 1]\n",
      " [2 3]\n",
      " [4 5]\n",
      " [6 7]\n",
      " [8 9]]\n"
     ]
    }
   ],
   "source": [
    "#2. Reshape a 1D Array:\n",
    "import numpy as np\n",
    "\n",
    "# Create a 1D array with values from 0 to 9\n",
    "arr = np.arange(10)\n",
    "print(\"Original array:\\n\", arr)\n",
    "\n",
    "# Reshape the array to shape (2, 5)\n",
    "reshaped_2_5 = arr.reshape(2, 5)\n",
    "print(\"Reshaped to (2, 5):\\n\", reshaped_2_5)\n",
    "\n",
    "# Reshape the array to shape (5, 2)\n",
    "reshaped_5_2 = reshaped_2_5.reshape(5, 2)\n",
    "print(\"Reshaped to (5, 2):\\n\", reshaped_5_2)\n"
   ]
  },
  {
   "cell_type": "code",
   "execution_count": 4,
   "id": "4bdf9bcd-773f-4b2a-a4eb-afae8421c027",
   "metadata": {},
   "outputs": [
    {
     "name": "stdout",
     "output_type": "stream",
     "text": [
      "Original array:\n",
      " [[0.73886481 0.25275987 0.66823381 0.24907584]\n",
      " [0.19674406 0.57114197 0.25372812 0.50186788]\n",
      " [0.16790636 0.44020556 0.2611794  0.99794527]\n",
      " [0.27291181 0.84321573 0.61569062 0.84325984]]\n",
      "Array with zero border:\n",
      " [[0.         0.         0.         0.         0.         0.        ]\n",
      " [0.         0.73886481 0.25275987 0.66823381 0.24907584 0.        ]\n",
      " [0.         0.19674406 0.57114197 0.25372812 0.50186788 0.        ]\n",
      " [0.         0.16790636 0.44020556 0.2611794  0.99794527 0.        ]\n",
      " [0.         0.27291181 0.84321573 0.61569062 0.84325984 0.        ]\n",
      " [0.         0.         0.         0.         0.         0.        ]]\n"
     ]
    }
   ],
   "source": [
    "#3. 4x4 Array with Zero Border:\n",
    "import numpy as np\n",
    "arr = np.random.rand(4, 4)\n",
    "print(\"Original array:\\n\", arr)\n",
    "\n",
    "# Add a border of zeros around the array\n",
    "bordered_arr = np.pad(arr, pad_width=1, mode='constant', constant_values=0)\n",
    "print(\"Array with zero border:\\n\", bordered_arr)\n"
   ]
  },
  {
   "cell_type": "code",
   "execution_count": 5,
   "id": "cfe3ca4c-2794-446a-8769-d0573c4e4c75",
   "metadata": {},
   "outputs": [
    {
     "name": "stdout",
     "output_type": "stream",
     "text": [
      "Array: [10 15 20 25 30 35 40 45 50 55 60]\n"
     ]
    }
   ],
   "source": [
    "#4. Create Array from 10 to 60 with Step 5:\n",
    "import numpy as np\n",
    "arr = np.arange(10, 65, 5)\n",
    "print(\"Array:\", arr)\n",
    "\n",
    "   "
   ]
  },
  {
   "cell_type": "code",
   "execution_count": 6,
   "id": "e439cfe6-9d8d-4212-9863-9bf757dd9b5d",
   "metadata": {},
   "outputs": [
    {
     "name": "stdout",
     "output_type": "stream",
     "text": [
      "Uppercase: ['PYTHON' 'NUMPY' 'PANDAS']\n",
      "Lowercase: ['python' 'numpy' 'pandas']\n",
      "Title case: ['Python' 'Numpy' 'Pandas']\n"
     ]
    }
   ],
   "source": [
    "#5. String Case Transformations:\n",
    "import numpy as np\n",
    "\n",
    "# Create a NumPy array of strings\n",
    "arr = np.array(['python', 'numpy', 'pandas'])\n",
    "\n",
    "# Convert to uppercase\n",
    "upper = np.char.upper(arr)\n",
    "print(\"Uppercase:\", upper)\n",
    "\n",
    "# Convert to lowercase\n",
    "lower = np.char.lower(arr)\n",
    "print(\"Lowercase:\", lower)\n",
    "\n",
    "# Convert to title case\n",
    "title = np.char.title(arr)\n",
    "print(\"Title case:\", title)\n",
    "\n",
    "   "
   ]
  },
  {
   "cell_type": "code",
   "execution_count": 7,
   "id": "6e00e655-c4f5-44cb-b724-681ae87dc8cf",
   "metadata": {},
   "outputs": [
    {
     "name": "stdout",
     "output_type": "stream",
     "text": [
      "Spaced characters: ['p y t h o n' 'n u m p y' 'p a n d a s']\n"
     ]
    }
   ],
   "source": [
    "#6. Insert Spaces Between Characters:\n",
    "import numpy as np\n",
    "\n",
    "# Create a NumPy array of strings\n",
    "arr = np.array(['python', 'numpy', 'pandas'])\n",
    "\n",
    "# Insert spaces between characters\n",
    "spaced = np.char.join(' ', arr)\n",
    "print(\"Spaced characters:\", spaced)\n",
    "\n"
   ]
  },
  {
   "cell_type": "code",
   "execution_count": 8,
   "id": "f5420b49-2e25-4622-b2b9-66528ed07054",
   "metadata": {},
   "outputs": [
    {
     "name": "stdout",
     "output_type": "stream",
     "text": [
      "Addition:\n",
      " [[ 6  8]\n",
      " [10 12]]\n",
      "Subtraction:\n",
      " [[-4 -4]\n",
      " [-4 -4]]\n",
      "Multiplication:\n",
      " [[ 5 12]\n",
      " [21 32]]\n",
      "Division:\n",
      " [[0.2        0.33333333]\n",
      " [0.42857143 0.5       ]]\n"
     ]
    }
   ],
   "source": [
    "#7. Element-wise Operations on 2D Arrays:\n",
    "import numpy as np\n",
    "\n",
    "# Create two 2D NumPy arrays\n",
    "arr1 = np.array([[1, 2], [3, 4]])\n",
    "arr2 = np.array([[5, 6], [7, 8]])\n",
    "\n",
    "# Perform element-wise operations\n",
    "addition = arr1 + arr2\n",
    "subtraction = arr1 - arr2\n",
    "multiplication = arr1 * arr2\n",
    "division = arr1 / arr2\n",
    "\n",
    "print(\"Addition:\\n\", addition)\n",
    "print(\"Subtraction:\\n\", subtraction)\n",
    "print(\"Multiplication:\\n\", multiplication)\n",
    "print(\"Division:\\n\", division)\n"
   ]
  },
  {
   "cell_type": "code",
   "execution_count": 9,
   "id": "1e1393f0-a4c9-4d9c-8f43-5a8a20e85f28",
   "metadata": {},
   "outputs": [
    {
     "name": "stdout",
     "output_type": "stream",
     "text": [
      "Identity Matrix:\n",
      " [[1. 0. 0. 0. 0.]\n",
      " [0. 1. 0. 0. 0.]\n",
      " [0. 0. 1. 0. 0.]\n",
      " [0. 0. 0. 1. 0.]\n",
      " [0. 0. 0. 0. 1.]]\n",
      "Diagonal Elements: [1. 1. 1. 1. 1.]\n"
     ]
    }
   ],
   "source": [
    "#8. Create Identity Matrix and Extract Diagonal:\n",
    "import numpy as np\n",
    "\n",
    "# Create a 5x5 identity matrix\n",
    "identity_matrix = np.eye(5)\n",
    "print(\"Identity Matrix:\\n\", identity_matrix)\n",
    "\n",
    "# Extract diagonal elements\n",
    "diagonal_elements = np.diag(identity_matrix)\n",
    "print(\"Diagonal Elements:\", diagonal_elements)\n"
   ]
  },
  {
   "cell_type": "code",
   "execution_count": 10,
   "id": "461f5d4f-c0b5-4f14-b1d7-c809ca489af7",
   "metadata": {},
   "outputs": [
    {
     "name": "stdout",
     "output_type": "stream",
     "text": [
      "Random Array: [162 948 526 716 700 277 816 558 398 179 370 984 640 387 919 183 573 288\n",
      " 593 982 298 259 318  44 257 736 679 899 827 591 648 337 209  29 961 383\n",
      " 878 108 708 652 228 764 495 458  32 385 332 182 995 638 769 594  62 907\n",
      " 263 261 331 864 370 608 717 570 568 611 436 183 975 659 630 152 891 774\n",
      " 705  39 786 571   9 540 728 476 378 241 924  75 364 858 460 582 486 679\n",
      " 615 107 280 343 309 588 598 432 932 918]\n",
      "Prime Numbers: [277 179 919 593 257 827 337  29 383 769 907 263 331 659 571 241 107]\n"
     ]
    }
   ],
   "source": [
    "#9. Find Prime Numbers in Array:\n",
    "import numpy as np\n",
    "\n",
    "# Generate an array of 100 random integers between 0 and 1000\n",
    "arr = np.random.randint(0, 1000, 100)\n",
    "\n",
    "# Define a function to check if a number is prime\n",
    "def is_prime(x):\n",
    "    if x < 2:\n",
    "        return False\n",
    "    for i in range(2, int(np.sqrt(x)) + 1):\n",
    "        if x % i == 0:\n",
    "            return False\n",
    "    return True\n",
    "\n",
    "# Vectorize the prime-checking function\n",
    "vectorized_is_prime = np.vectorize(is_prime)\n",
    "\n",
    "# Apply the vectorized function to the array\n",
    "primes = arr[vectorized_is_prime(arr)]\n",
    "\n",
    "print(\"Random Array:\", arr)\n",
    "print(\"Prime Numbers:\", primes)\n"
   ]
  },
  {
   "cell_type": "code",
   "execution_count": 11,
   "id": "fcf1d9cc-dffc-419e-b517-8ffd25128176",
   "metadata": {},
   "outputs": [
    {
     "name": "stdout",
     "output_type": "stream",
     "text": [
      "Random Array: [443  94 151 415 594 807 540 636 752  47 491 929 407 673 136  72 357 845\n",
      " 114 760 919 819 206 636 601 209 124  53 923 353 808 365  20 816 860 887\n",
      " 236 349 658 295 634  48 631 556 903 293 575 561 166 762 128 960 124 917\n",
      " 537 298 857 755 650 286 361 787 747 851 213 670 679 670 171 781 205 965\n",
      " 179 826 730 294 877 775 652 264 485 272  94 438 844 432 739 926 979 671\n",
      " 938 174 755 580 891 454 673  47 543 907]\n",
      "Prime Numbers: [443 151  47 491 929 673 919 601  53 353 887 349 631 293 857 787 179 877\n",
      " 739 673  47 907]\n"
     ]
    }
   ],
   "source": [
    "#10. Calculate Weekly Averages from Daily Temperatures:\n",
    "\n",
    "import numpy as np\n",
    "\n",
    "# Generate an array of 100 random integers between 0 and 1000\n",
    "arr = np.random.randint(0, 1000, 100)\n",
    "\n",
    "# Define a function to check if a number is prime\n",
    "def is_prime(x):\n",
    "    if x < 2:\n",
    "        return False\n",
    "    for i in range(2, int(np.sqrt(x)) + 1):\n",
    "        if x % i == 0:\n",
    "            return False\n",
    "    return True\n",
    "\n",
    "# Vectorize the prime-checking function\n",
    "vectorized_is_prime = np.vectorize(is_prime)\n",
    "\n",
    "# Apply the vectorized function to the array\n",
    "primes = arr[vectorized_is_prime(arr)]\n",
    "\n",
    "print(\"Random Array:\", arr)\n",
    "print(\"Prime Numbers:\", primes)\n"
   ]
  },
  {
   "cell_type": "code",
   "execution_count": null,
   "id": "f22e17cb-fcf0-4439-90d6-8fb44e75d847",
   "metadata": {},
   "outputs": [],
   "source": []
  }
 ],
 "metadata": {
  "kernelspec": {
   "display_name": "Python 3 (ipykernel)",
   "language": "python",
   "name": "python3"
  },
  "language_info": {
   "codemirror_mode": {
    "name": "ipython",
    "version": 3
   },
   "file_extension": ".py",
   "mimetype": "text/x-python",
   "name": "python",
   "nbconvert_exporter": "python",
   "pygments_lexer": "ipython3",
   "version": "3.10.8"
  }
 },
 "nbformat": 4,
 "nbformat_minor": 5
}
