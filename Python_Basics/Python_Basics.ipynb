{
 "cells": [
  {
   "cell_type": "raw",
   "id": "4cd0b68f-9cec-4cfb-8c55-4504fdd8cf45",
   "metadata": {},
   "source": [
    "1. Explain the key features of Python that make it a popular choice for programming.\n",
    "\n",
    "•Easy to Learn and Read: Python’s syntax is clear and easy to understand, making it a popular choice for beginners and professionals.\n",
    "•Interpreted Language: Python is executed line-by-line, which makes debugging easier.\n",
    "•Dynamic Typing: Python allows you to change the data type of a variable at runtime.\n",
    "•Extensive Libraries: Python has a vast standard library (like NumPy, Pandas, TensorFlow) that supports various applications, from web development to machine learning.\n",
    "•Cross-Platform: Python is platform-independent, meaning it can run on various operating systems like Windows, Linux, and macOS.\n",
    "•Object-Oriented and Procedural Programming: Python supports both paradigms, allowing developers flexibility.\n",
    "•Community Support: It has a large active community for support and numerous resources available for learning and development.\n"
   ]
  },
  {
   "cell_type": "code",
   "execution_count": 10,
   "id": "c968c632-8c51-47eb-bd4c-6cf92da697b3",
   "metadata": {},
   "outputs": [
    {
     "name": "stdout",
     "output_type": "stream",
     "text": [
      "this is a keyword example\n"
     ]
    }
   ],
   "source": [
    "#2. Describe the role of predefined keywords in Python and provide examples of how they are used in a program: \n",
    "\n",
    "#Predefined Keywords: Python has several reserved keywords that cannot be used as identifiers (variable names). These keywords have specific meanings and help control the program's flow.\n",
    "#Example: \n",
    "\n",
    "if True:\n",
    "    print(\"this is a keyword example\")\n"
   ]
  },
  {
   "cell_type": "code",
   "execution_count": 20,
   "id": "99c1c6ad-0885-4558-b003-d9045fcf82bd",
   "metadata": {},
   "outputs": [
    {
     "data": {
      "text/plain": [
       "[1, 2, 3, 4]"
      ]
     },
     "execution_count": 20,
     "metadata": {},
     "output_type": "execute_result"
    }
   ],
   "source": [
    "#3. Compare and contrast mutable and immutable objects in Python with examples:\n",
    "\n",
    "#Mutable Objects: These can be changed after their creation. Example: Lists, Dictionaries, Sets.\n",
    "#Example: \n",
    "my_list=[1,2,3]\n",
    "my_list.append(4)\n",
    "my_list\n"
   ]
  },
  {
   "cell_type": "code",
   "execution_count": 19,
   "id": "338ab14b-d114-4a74-a34f-52691d6e4ec8",
   "metadata": {},
   "outputs": [
    {
     "ename": "TypeError",
     "evalue": "'str' object does not support item assignment",
     "output_type": "error",
     "traceback": [
      "\u001b[0;31m---------------------------------------------------------------------------\u001b[0m",
      "\u001b[0;31mTypeError\u001b[0m                                 Traceback (most recent call last)",
      "Cell \u001b[0;32mIn[19], line 4\u001b[0m\n\u001b[1;32m      1\u001b[0m \u001b[38;5;66;03m#Immutable Objects: These cannot be changed once created. Example: Strings, Tuples, Integers.\u001b[39;00m\n\u001b[1;32m      2\u001b[0m \u001b[38;5;66;03m#Example:\u001b[39;00m\n\u001b[1;32m      3\u001b[0m my_string\u001b[38;5;241m=\u001b[39m\u001b[38;5;124m\"\u001b[39m\u001b[38;5;124mhello\u001b[39m\u001b[38;5;124m\"\u001b[39m\n\u001b[0;32m----> 4\u001b[0m \u001b[43mmy_string\u001b[49m\u001b[43m[\u001b[49m\u001b[38;5;241;43m0\u001b[39;49m\u001b[43m]\u001b[49m\u001b[38;5;241m=\u001b[39m\u001b[38;5;124m\"\u001b[39m\u001b[38;5;124mh\u001b[39m\u001b[38;5;124m\"\u001b[39m\n",
      "\u001b[0;31mTypeError\u001b[0m: 'str' object does not support item assignment"
     ]
    }
   ],
   "source": [
    "#Immutable Objects: These cannot be changed once created. Example: Strings, Tuples, Integers.\n",
    "#Example:\n",
    "my_string=\"hello\"\n",
    "my_string[0]=\"h\""
   ]
  },
  {
   "cell_type": "raw",
   "id": "593b73e3-6110-4b91-a14e-813e06fe6ec2",
   "metadata": {},
   "source": [
    "4. Discuss the different types of operators in Python and provide examples of how they are used:\n",
    "\n",
    "Arithmetic Operators: Perform basic mathematical operations.\n",
    "Example: +, -, *, /, %\n",
    "\n",
    "Comparison Operators: Compare values and return True or False.\n",
    "Example: ==, !=, >, <, >=, <=\n",
    "\n",
    "Logical Operators: Used to perform logical operations.\n",
    "Example: and, or, not\n",
    "\n",
    "Assignment Operators: Assign values to variables.\n",
    "Example: =, +=, -=, *=, /=\n",
    "\n",
    "\n",
    "Bitwise Operators: Perform bitwise operations on integers.\n",
    "Example: &, |, ^, ~, <<, >>\n",
    "\n",
    "\n",
    "\n"
   ]
  },
  {
   "cell_type": "code",
   "execution_count": 23,
   "id": "d15a78a3-4d04-4e0f-a2bd-8b89f37c98b0",
   "metadata": {},
   "outputs": [
    {
     "data": {
      "text/plain": [
       "11"
      ]
     },
     "execution_count": 23,
     "metadata": {},
     "output_type": "execute_result"
    }
   ],
   "source": [
    "#Examples:\n",
    "#Arithmetic Operators:\n",
    "result1=5+6\n",
    "result1"
   ]
  },
  {
   "cell_type": "code",
   "execution_count": 24,
   "id": "d64df9a3-1e10-42bc-acd9-0ea7bcecd16e",
   "metadata": {},
   "outputs": [
    {
     "data": {
      "text/plain": [
       "True"
      ]
     },
     "execution_count": 24,
     "metadata": {},
     "output_type": "execute_result"
    }
   ],
   "source": [
    "#Comparison Operators:\n",
    "result2=5>2\n",
    "result2"
   ]
  },
  {
   "cell_type": "code",
   "execution_count": 25,
   "id": "b427fa0b-3dfc-4ebb-ae9f-866678934915",
   "metadata": {},
   "outputs": [
    {
     "data": {
      "text/plain": [
       "False"
      ]
     },
     "execution_count": 25,
     "metadata": {},
     "output_type": "execute_result"
    }
   ],
   "source": [
    "#Logical Operators:\n",
    "result3= True and False\n",
    "result3"
   ]
  },
  {
   "cell_type": "code",
   "execution_count": 26,
   "id": "4574a837-e26f-4a09-84e7-a75f7f450b1d",
   "metadata": {},
   "outputs": [
    {
     "data": {
      "text/plain": [
       "7"
      ]
     },
     "execution_count": 26,
     "metadata": {},
     "output_type": "execute_result"
    }
   ],
   "source": [
    "#Assignment Operators:\n",
    "result3=5\n",
    "result3+=2\n",
    "result3"
   ]
  },
  {
   "cell_type": "code",
   "execution_count": 27,
   "id": "4547c898-93f8-4408-8bb3-09ebd6349b9e",
   "metadata": {},
   "outputs": [
    {
     "data": {
      "text/plain": [
       "1"
      ]
     },
     "execution_count": 27,
     "metadata": {},
     "output_type": "execute_result"
    }
   ],
   "source": [
    "#Bitwise Operators:\n",
    "result4=5&3\n",
    "result4"
   ]
  },
  {
   "cell_type": "code",
   "execution_count": 13,
   "id": "11c2e987-659b-43c6-aaa0-a0af2e1d7425",
   "metadata": {},
   "outputs": [
    {
     "data": {
      "text/plain": [
       "100"
      ]
     },
     "execution_count": 13,
     "metadata": {},
     "output_type": "execute_result"
    }
   ],
   "source": [
    "#5. Explain the concept of type casting in Python with examples.\n",
    "#Type Casting: Changing the data type of a variable. Python supports both implicit and explicit type casting.\n",
    "#Explicit Type Casting: Done using built-in functions like int(), float(), str()\n",
    "#Example:\n",
    "\n",
    "num=\"100\"\n",
    "num=int(num)\n",
    "num\n"
   ]
  },
  {
   "cell_type": "code",
   "execution_count": 12,
   "id": "56558372-e90e-499a-b13c-e87707fcdf50",
   "metadata": {},
   "outputs": [
    {
     "data": {
      "text/plain": [
       "12.5"
      ]
     },
     "execution_count": 12,
     "metadata": {},
     "output_type": "execute_result"
    }
   ],
   "source": [
    "#Implicit Type Casting: Python automatically converts one data type to another.\n",
    "#Example:\n",
    "\n",
    "result=10+2.5\n",
    "result\n"
   ]
  },
  {
   "cell_type": "code",
   "execution_count": 14,
   "id": "84b8b6d7-79bf-4020-a523-4b608e3b5486",
   "metadata": {},
   "outputs": [
    {
     "name": "stdout",
     "output_type": "stream",
     "text": [
      "Adult\n"
     ]
    }
   ],
   "source": [
    "#6. How do conditional statements work in Python? Illustrate with examples.\n",
    "#Conditional Statements: Used to perform actions based on conditions (if, elif, else).\n",
    "#Example:\n",
    "age= 18\n",
    "if age>=18: \n",
    "    print(\"Adult\")\n",
    "elif age>12:\n",
    "    print(\"Teenager\")\n",
    "else: \n",
    "    print(\"Child\")\n",
    "#The above program checks the age and prints \"Adult\" because the condition age >= 18 is True.\n",
    "\n"
   ]
  },
  {
   "cell_type": "code",
   "execution_count": 18,
   "id": "be3c9bbe-1b3e-4293-a293-0b1b76cd1381",
   "metadata": {},
   "outputs": [
    {
     "name": "stdout",
     "output_type": "stream",
     "text": [
      "0\n",
      "1\n",
      "2\n",
      "3\n",
      "4\n"
     ]
    }
   ],
   "source": [
    "#7. Describe the different types of loops in Python and their use cases with examples.\n",
    "#For Loop: Used to iterate over a sequence (list, tuple, string, etc.).\n",
    "#Example:\n",
    "\n",
    "for i in range(5):\n",
    "    print(i)\n",
    "#This prints numbers from 0 to 4.\n"
   ]
  },
  {
   "cell_type": "code",
   "execution_count": 16,
   "id": "f6b9a1b3-1b83-455d-aac6-1c781dc97e3e",
   "metadata": {},
   "outputs": [
    {
     "name": "stdout",
     "output_type": "stream",
     "text": [
      "0\n",
      "1\n",
      "2\n",
      "3\n",
      "4\n"
     ]
    }
   ],
   "source": [
    "#While Loop: Repeats as long as a condition is True.\n",
    "#Example:\n",
    "count=0\n",
    "while count<5:\n",
    "    print(count)\n",
    "    count+=1\n",
    "#This prints numbers from 0 to 4."
   ]
  },
  {
   "cell_type": "code",
   "execution_count": 17,
   "id": "f926572e-22ee-481d-992d-da7669d57327",
   "metadata": {},
   "outputs": [
    {
     "name": "stdout",
     "output_type": "stream",
     "text": [
      "0 0\n",
      "0 1\n",
      "1 0\n",
      "1 1\n",
      "2 0\n",
      "2 1\n"
     ]
    }
   ],
   "source": [
    "#Nested Loops: Loop inside another loop.\n",
    "#Example:\n",
    "for i in range(3):\n",
    "    for j in range(2):\n",
    "        print(i,j)"
   ]
  },
  {
   "cell_type": "code",
   "execution_count": null,
   "id": "68d5a608-6bf1-4b2b-b389-5b80f1cc74b2",
   "metadata": {},
   "outputs": [],
   "source": []
  }
 ],
 "metadata": {
  "kernelspec": {
   "display_name": "Python 3 (ipykernel)",
   "language": "python",
   "name": "python3"
  },
  "language_info": {
   "codemirror_mode": {
    "name": "ipython",
    "version": 3
   },
   "file_extension": ".py",
   "mimetype": "text/x-python",
   "name": "python",
   "nbconvert_exporter": "python",
   "pygments_lexer": "ipython3",
   "version": "3.10.8"
  }
 },
 "nbformat": 4,
 "nbformat_minor": 5
}
