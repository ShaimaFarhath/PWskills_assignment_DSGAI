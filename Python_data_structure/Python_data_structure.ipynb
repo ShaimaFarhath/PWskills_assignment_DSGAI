{
 "cells": [
  {
   "cell_type": "code",
   "execution_count": 2,
   "id": "5c08e7c8-c50c-41ba-9458-abd16f753139",
   "metadata": {},
   "outputs": [
    {
     "name": "stdout",
     "output_type": "stream",
     "text": [
      "Hello\n",
      "World\n",
      "!dlroW ,olleH\n"
     ]
    }
   ],
   "source": [
    "#1. Discuss string slicing and provide examples:\n",
    "\n",
    "#String slicing allows you to extract a portion of a string by specifying a start and end index. The syntax is string[start:end:step].\n",
    "\n",
    "#Example:\n",
    "text = \"Hello, World!\"\n",
    "print(text[0:5])  # Output: Hello\n",
    "print(text[7:12])  # Output: World\n",
    "print(text[::-1])  # Output: !dlroW ,olleH (reversed string)\n"
   ]
  },
  {
   "cell_type": "code",
   "execution_count": 3,
   "id": "0c239aae-668f-4ddb-9d3f-ae525f599146",
   "metadata": {},
   "outputs": [
    {
     "name": "stdout",
     "output_type": "stream",
     "text": [
      "[1, 'a', 3.5, True]\n"
     ]
    }
   ],
   "source": [
    "#2.Explain the key features of lists in Python:\n",
    "\n",
    "#1. Ordered: Elements have a specific order.\n",
    "#2. Mutable: Can be modified after creation (add, remove, or change elements).\n",
    "#3. Heterogeneous: Can contain elements of different data types.\n",
    "#4. Dynamic Size: List size can change dynamically.\n",
    "#5. Indexing and Slicing: Can access elements using indexing and slicing.\n",
    "#Example:\n",
    "   \n",
    "my_list = [1, 'a', 3.5, True]\n",
    "print(my_list)  # Output: [1, 'a', 3.5, True]\n"
   ]
  },
  {
   "cell_type": "code",
   "execution_count": 4,
   "id": "66e30a92-ce6d-4258-ba8a-cedb258db771",
   "metadata": {},
   "outputs": [
    {
     "name": "stdout",
     "output_type": "stream",
     "text": [
      "3\n",
      "[1, 2, 10, 4]\n",
      "[1, 10, 4]\n"
     ]
    }
   ],
   "source": [
    "#3.Describe how to access, modify, and delete elements in a list with examples:\n",
    "\n",
    "#1. Access: Use indexing to access elements.\n",
    "#2. Modify: Assign a new value to an index.\n",
    "#3. Delete: Use del, pop(), or remove().\n",
    "\n",
    "#Example:\n",
    "my_list = [1, 2, 3, 4]\n",
    "# Access\n",
    "print(my_list[2])  # Output: 3\n",
    "# Modify\n",
    "my_list[2] = 10\n",
    "print(my_list)  # Output: [1, 2, 10, 4]\n",
    "# Delete\n",
    "del my_list[1]\n",
    "print(my_list)  # Output: [1, 10, 4]\n",
    "\n"
   ]
  },
  {
   "cell_type": "code",
   "execution_count": 5,
   "id": "872f9768-f2cc-4219-ae01-de0ff321f2a3",
   "metadata": {},
   "outputs": [],
   "source": [
    "#4.Compare and contrast tuples and lists with examples:\n",
    "\n",
    "#1. Lists are mutable, while tuples are immutable.\n",
    "#2. Lists use square brackets [], while tuples use parentheses ().\n",
    "#3. Tuples are faster to iterate than lists.\n",
    "\n",
    "#Example:\n",
    "my_list = [1, 2, 3]\n",
    "my_tuple = (1, 2, 3)\n",
    "my_list[1] = 10  # Works\n",
    "# my_tuple[1] = 10  # This will raise an error (tuples are immutable)\n"
   ]
  },
  {
   "cell_type": "code",
   "execution_count": 6,
   "id": "51f5ee0d-6bd1-41a3-bdfa-5fd72991e979",
   "metadata": {},
   "outputs": [
    {
     "name": "stdout",
     "output_type": "stream",
     "text": [
      "{1, 2, 3}\n"
     ]
    }
   ],
   "source": [
    "#5. Describe the key features of sets and provide examples of their use:\n",
    "\n",
    "#1. Unordered: Elements do not have a specific order.\n",
    "#2. Unique Elements: No duplicates allowed.\n",
    "#3. Mutable: Can add or remove elements, though elements must be immutable.\n",
    "#4. Efficient Membership Testing: Checking if an element exists is efficient.\n",
    "\n",
    "#Example:\n",
    "my_set = {1, 2, 3, 3}\n",
    "print(my_set)  # Output: {1, 2, 3}\n"
   ]
  },
  {
   "cell_type": "code",
   "execution_count": 10,
   "id": "d51ddd1c-1e2d-49db-957d-8a412cc25c44",
   "metadata": {},
   "outputs": [
    {
     "name": "stdout",
     "output_type": "stream",
     "text": [
      "{1, 2, 3}\n"
     ]
    }
   ],
   "source": [
    "#6. Discuss the use cases of tuples and sets in Python programming:\n",
    "\n",
    "#1.Tuples: Used when data should remain constant and immutable. Examples: representing fixed records, function returns, or key-value pairs.\n",
    "#2. Sets: Used for membership testing, removing duplicates from a list, or performing set operations like union, intersection, and difference.\n",
    "\n",
    "#Example:\n",
    "\n",
    "# Tuples as return values\n",
    "def get_coordinates():\n",
    "    return (10, 20)\n",
    "\n",
    "# Sets for removing duplicates\n",
    "my_list = [1, 2, 2, 3, 3, 3]\n",
    "unique_items = set(my_list)\n",
    "print(unique_items)  # Output: {1, 2, 3"
   ]
  },
  {
   "cell_type": "code",
   "execution_count": 11,
   "id": "63c13d26-8416-4ffa-a0d3-f9ec58fb7ac8",
   "metadata": {},
   "outputs": [
    {
     "name": "stdout",
     "output_type": "stream",
     "text": [
      "{'name': 'John', 'age': 31, 'city': 'New York'}\n",
      "{'name': 'John', 'city': 'New York'}\n"
     ]
    }
   ],
   "source": [
    "#7. Describe how to add, modify, and delete items in a dictionary with examples:\n",
    "\n",
    "#1. Add/Modify: Use key-value pair assignment.\n",
    "#2. Delete: Use del, pop(), or clear().\n",
    "\n",
    "#Example:\n",
    "my_dict = {'name': 'John', 'age': 30}\n",
    "# Add/Modify\n",
    "my_dict['age'] = 31\n",
    "my_dict['city'] = 'New York'\n",
    "print(my_dict)  # Output: {'name': 'John', 'age': 31, 'city': 'New York'}\n",
    "# Delete\n",
    "del my_dict['age']\n",
    "print(my_dict)  # Output: {'name': 'John', 'city': 'New York'}\n"
   ]
  },
  {
   "cell_type": "code",
   "execution_count": 12,
   "id": "fd70cf07-0282-48bf-9e1c-de8701ca38f4",
   "metadata": {},
   "outputs": [],
   "source": [
    "#8. Discuss the importance of dictionary keys being immutable and provide examples:\n",
    "\n",
    "#Dictionary keys must be immutable (like strings, numbers, or tuples) because they are used in hashing to store and retrieve values efficiently. If keys were mutable, their hash value could change, making it difficult to access the associated value.\n",
    "\n",
    "#Example:\n",
    "my_dict = {(1, 2): 'coordinates'}\n",
    "# my_dict[[1, 2]] = 'list as key'  # This will raise an error because lists are mutable\n",
    "   \n"
   ]
  },
  {
   "cell_type": "code",
   "execution_count": null,
   "id": "5300e64f-7ede-48b4-99c8-d4bc093ff2a4",
   "metadata": {},
   "outputs": [],
   "source": []
  }
 ],
 "metadata": {
  "kernelspec": {
   "display_name": "Python 3 (ipykernel)",
   "language": "python",
   "name": "python3"
  },
  "language_info": {
   "codemirror_mode": {
    "name": "ipython",
    "version": 3
   },
   "file_extension": ".py",
   "mimetype": "text/x-python",
   "name": "python",
   "nbconvert_exporter": "python",
   "pygments_lexer": "ipython3",
   "version": "3.10.8"
  }
 },
 "nbformat": 4,
 "nbformat_minor": 5
}
